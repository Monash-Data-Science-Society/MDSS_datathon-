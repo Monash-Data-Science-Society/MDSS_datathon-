{
 "cells": [
  {
   "cell_type": "code",
   "execution_count": null,
   "metadata": {},
   "outputs": [],
   "source": [
    "import tweepy\n",
    "import tweepy\n",
    "import csv\n",
    "import pandas as pd"
   ]
  },
  {
   "cell_type": "code",
   "execution_count": null,
   "metadata": {},
   "outputs": [],
   "source": [
    "#download based on hashtags\n",
    "####input your credentials here\n",
    "consumer_key = 'TAbTz5ezqKWGVGJ31p6eYXqM8'\n",
    "consumer_secret = 'uOcGn7fs9WCfutR2GJ8hCM3ukWwZ4zgKZ4eWI1etuhFNmTWQyA'\n",
    "access_token = '1133656953526345729-ksLKfH4PoFjKjIkHGv3Nk1kSZUC6DU'\n",
    "access_token_secret = 'NaVumR31yP8D6734DXBeH0PHG73niZutyHIXATioIDREe'\n",
    "\n",
    "auth = tweepy.OAuthHandler(consumer_key, consumer_secret)\n",
    "auth.set_access_token(access_token, access_token_secret)\n",
    "api = tweepy.API(auth,wait_on_rate_limit=True)\n",
    "#####input the hashtags\n",
    "# Open/Create a file to append data\n",
    "csvFile = open('a.csv', 'a')#enter the csv filename to store the data \n",
    "#Use csv Writer\n",
    "csvWriter = csv.writer(csvFile)\n",
    "\n",
    "for tweet in tweepy.Cursor(api.search,q=\"#BlackLivesMatter\",count=100,\n",
    "                           lang=\"en\",\n",
    "                           since=\"2017-04-03\").items():\n",
    "    print (tweet.created_at, tweet.text)\n",
    "    csvWriter.writerow([tweet.created_at, tweet.text.encode('utf-8')])"
   ]
  },
  {
   "cell_type": "code",
   "execution_count": null,
   "metadata": {},
   "outputs": [],
   "source": []
  }
 ],
 "metadata": {
  "kernelspec": {
   "display_name": "Python 3",
   "language": "python",
   "name": "python3"
  },
  "language_info": {
   "codemirror_mode": {
    "name": "ipython",
    "version": 3
   },
   "file_extension": ".py",
   "mimetype": "text/x-python",
   "name": "python",
   "nbconvert_exporter": "python",
   "pygments_lexer": "ipython3",
   "version": "3.7.6"
  }
 },
 "nbformat": 4,
 "nbformat_minor": 4
}
